{
 "cells": [
  {
   "cell_type": "code",
   "execution_count": null,
   "id": "a720534f-ec68-4250-9029-5ac8f719e38f",
   "metadata": {},
   "outputs": [],
   "source": [
    "#EXERCISE 1: Use the quadratic equation to solve 25x2-35x-15=0, Then solve 5x2+3x-90=0\n",
    "\n",
    "a= 25\n",
    "b= -35\n",
    "c= -15\n",
    "\n",
    "x1= (-b+((b**2)-(4*a*c))**0.5)/(2*a)\n",
    "x2= (-b-((b**2)-(4*a*c))**0.5)/(2*a)\n",
    "print('The roots are')\n",
    "print(x1)\n",
    "print(x2)\n",
    "print('-----')\n",
    "\n",
    "\n",
    "a= 5\n",
    "b= 3\n",
    "c= -90\n",
    "\n",
    "x1= (-b+((b**2)-(4*a*c))**0.5)/(2*a)\n",
    "x2= (-b-((b**2)-(4*a*c))**0.5)/(2*a)\n",
    "print('The roots are')\n",
    "print(x1)\n",
    "print(x2)\n",
    "\n"
   ]
  },
  {
   "cell_type": "code",
   "execution_count": null,
   "id": "2f2d9168-0348-4521-82c7-e0258f1bc714",
   "metadata": {},
   "outputs": [],
   "source": [
    "#EXERCISE 2: Write a program to test if a variable is positive, negative or zero.\n",
    "x= -6\n",
    "if (x > 0):\n",
    "    print (\"x is positive\")\n",
    "elif (x < 0):\n",
    "    print(\"x is negative\")\n",
    "else:  \n",
    "    print(\"x is zero\")\n"
   ]
  },
  {
   "cell_type": "code",
   "execution_count": null,
   "id": "cc732c2a-ac67-4fd2-9e77-eadc5c56b6da",
   "metadata": {},
   "outputs": [],
   "source": [
    "#EXERCISE 2.1: Write a program to test if a variable is positive, negative or zero. User Input\n",
    "\n",
    "x = float(input(\"Enter a number: \"))\n",
    "\n",
    "if x > 0:\n",
    "    print(x, \"is positive\")\n",
    "elif x < 0:\n",
    "    print(x, \"is negative\")\n",
    "else:\n",
    "    print(x, \"is zero\")"
   ]
  },
  {
   "cell_type": "code",
   "execution_count": null,
   "id": "91a8311e-142d-485c-b3be-70741bba1c8f",
   "metadata": {},
   "outputs": [],
   "source": [
    "#EXERCISE 3: Write a loop that prints the odd numbers up to 20. \n",
    "\n",
    "# Example of Python range(start, stop, step) From geeksforgeeks.org\n",
    "for i in range(1, 20, 2):\n",
    "    print(i, end=\" \")\n",
    "print()"
   ]
  },
  {
   "cell_type": "code",
   "execution_count": null,
   "id": "07b84819-5d6c-46ee-a1f1-8dc0ff21fb0f",
   "metadata": {},
   "outputs": [],
   "source": [
    "#EXERCISE 4: Write a function that given the\n",
    "#height of a ball determines the\n",
    "#time it takes to hit the ground.\n",
    "#h = 1/2 g t2. Allow g to be a\n",
    "#keyword so you can use this\n",
    "#code on other planets.\n",
    "\n",
    "# dictionary of planets and their gravity (m/s^2)\n",
    "gravity = {\n",
    "    \"Mercury\": 3.7,\n",
    "    \"Venus\": 8.87,\n",
    "    \"Earth\": 9.8,\n",
    "    \"Moon\": 1.62,\n",
    "    \"Mars\": 3.71,\n",
    "    \"Jupiter\": 24.79,\n",
    "    \"Saturn\": 10.44,\n",
    "    \"Uranus\": 8.69,\n",
    "    \"Neptune\": 11.15\n",
    "}\n",
    "\n",
    "def fall_time(height, g=gravity[\"Earth\"]):\n",
    "    return (2 * height / g) ** 0.5\n",
    "\n",
    "# user input for the height of the ball\n",
    "h = float(input(\"Enter the height of the ball (in meters): \"))\n",
    "\n",
    "# print times for all planets\n",
    "for planet, g in gravity.items():\n",
    "    t = fall_time(h, g)\n",
    "    print(f\"On {planet}: {t:.2f} seconds\")"
   ]
  }
 ],
 "metadata": {
  "kernelspec": {
   "display_name": "Python 3 (ipykernel)",
   "language": "python",
   "name": "python3"
  },
  "language_info": {
   "codemirror_mode": {
    "name": "ipython",
    "version": 3
   },
   "file_extension": ".py",
   "mimetype": "text/x-python",
   "name": "python",
   "nbconvert_exporter": "python",
   "pygments_lexer": "ipython3",
   "version": "3.12.11"
  }
 },
 "nbformat": 4,
 "nbformat_minor": 5
}
